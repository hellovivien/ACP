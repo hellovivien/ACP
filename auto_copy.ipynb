{
 "cells": [
  {
   "cell_type": "markdown",
   "metadata": {},
   "source": [
    "# BRIEF ACP"
   ]
  },
  {
   "cell_type": "code",
   "execution_count": 1,
   "metadata": {},
   "outputs": [],
   "source": [
    "\"\"\"\n",
    "FUNCTIONS TO REUSE\n",
    "\"\"\"\n",
    "def quick_view(X):\n",
    "    title(\"Dataframe\")\n",
    "    kv(\"shape\", X.shape)\n",
    "    if VERBOSE > 0:\n",
    "        display(X)\n",
    "    \n",
    "def scale(X, cols = None):\n",
    "    if not cols:\n",
    "        cols = X.columns.to_list()\n",
    "    sc = StandardScaler()\n",
    "    X[cols] = sc.fit_transform(X[cols])\n",
    "    title(\"Standard Scaler\")\n",
    "    if VERBOSE > 0:\n",
    "        display(X)\n",
    "    \n",
    "def build_acp(X):\n",
    "    acp = PCA(svd_solver='full')\n",
    "    print(acp)\n",
    "    coord = acp.fit_transform(X)\n",
    "    #nombre de composantes calculées\n",
    "    print(acp.n_components_)\n",
    "    print(acp.explained_variance_)\n",
    "    eigval = (n-1)/n*acp.explained_variance_\n",
    "    print(eigval)\n",
    "    print(acp.singular_values_**2/n)\n",
    "    print(acp.explained_variance_ratio_)\n",
    "    return acp, eigval, coord\n",
    "\n",
    "def scree_plot(eigval):\n",
    "    plt.plot(numpy.arange(1,p+1),eigval)\n",
    "    plt.title(\"Scree plot\")\n",
    "    plt.ylabel(\"Eigen values\")\n",
    "    plt.xlabel(\"Factor number\")\n",
    "    plt.show()\n",
    "    \n",
    "def var_and_factors(acp):\n",
    "    plt.plot(numpy.arange(1,p+1),numpy.cumsum(acp.explained_variance_ratio_))\n",
    "    plt.title(\"Explained variance vs. # of factors\")\n",
    "    plt.ylabel(\"Cumsum explained variance ratio\")\n",
    "    plt.xlabel(\"Factor number\")\n",
    "    plt.show()\n",
    "    \n",
    "def baton_brisee(eigval, coord):\n",
    "    bs = 1/numpy.arange(p,0,-1)\n",
    "    bs = numpy.cumsum(bs)\n",
    "    bs = bs[::-1]\n",
    "    print(pandas.DataFrame({'Val.Propre':eigval,'Seuils':bs}))\n",
    "    cf = pandas.DataFrame(coord,index=X.index,columns=numpy.arange(1,p+1))\n",
    "    print(cf)\n",
    "    \n",
    "def show_fact_plan(coord):\n",
    "    fig, axes = plt.subplots(figsize=(12,12))\n",
    "    axes.set_xlim(-6,6)\n",
    "    axes.set_ylim(-6,6)\n",
    "    for i in range(n):\n",
    "        plt.annotate(X.index[i],(coord[i,0],coord[i,1]))\n",
    "    for i in range(n):\n",
    "        plt.annotate(X.index[i],(coord[i,0],coord[i,1]))\n",
    "    plt.plot([-6,6],[0,0],color='silver',linestyle='-',linewidth=1)\n",
    "    plt.plot([0,0],[-6,6],color='silver',linestyle='-',linewidth=1)\n",
    "    plt.show()\n",
    "    \n",
    "    \n",
    "#pour calculer l'inertie provoquer par un individu on met son score au carré\n",
    "def inertia(X, coord, eigval):\n",
    "    title(\"Inertie\")\n",
    "    di = numpy.sum(X**2,axis=1)\n",
    "    print(pandas.DataFrame({'ID':X.index,'d_i':di}))\n",
    "    cos2 = coord**2\n",
    "    for j in range(p):\n",
    "        cos2[:,j] = cos2[:,j]/di\n",
    "    print(pandas.DataFrame({'id':X.index,'COS2_1':cos2[:,0],'COS2_2':cos2[:,1]}))\n",
    "    print(numpy.sum(cos2,axis=1))\n",
    "\n",
    "def get_weight(X, coord, acp):\n",
    "    title(\"Poids sur les axes\")\n",
    "    ctr = coord**2\n",
    "    for j in range(p):\n",
    "        ctr[:,j] = ctr[:,j]/(n*eigval[j])\n",
    "    print(pandas.DataFrame({'id':X.index,'CTR_1':ctr[:,0],'CTR_2':ctr[:,1]}))\n",
    "    print(numpy.sum(ctr,axis=0))\n",
    "    print(acp.components_)\n",
    "    \n",
    "def get_corr(X, eigval, acp):\n",
    "    p = X.shape[1]\n",
    "    sqrt_eigval = numpy.sqrt(eigval)\n",
    "    corvar = numpy.zeros((p,p))\n",
    "    for k in range(p):\n",
    "        corvar[:,k] = acp.components_[k,:] * sqrt_eigval[k]\n",
    "    #afficher la matrice des corrélations variables x facteurs    \n",
    "    print(corvar)\n",
    "    #on affiche pour les deux premiers axes\n",
    "    print(pandas.DataFrame({'id':X.columns,'COR_1':corvar[:,0],'COR_2':corvar[:,1]}))"
   ]
  },
  {
   "cell_type": "markdown",
   "metadata": {},
   "source": [
    "# 1 Introduction"
   ]
  },
  {
   "cell_type": "markdown",
   "metadata": {},
   "source": [
    "### D'après http://eric.univ-lyon2.fr/~ricco/tanagra/fichiers/fr_Tanagra_ACP_Python.pdf"
   ]
  },
  {
   "cell_type": "markdown",
   "metadata": {},
   "source": [
    "# 2 Données"
   ]
  },
  {
   "cell_type": "markdown",
   "metadata": {},
   "source": [
    "Nous  reprenons  la  trame  du  didacticiel  pour  R  [TUTO_R].  Les  données  proviennent  de l’ouvrage de Gilbert Saporta (2006;  tableau  17.1,  page  428)  qui  fait  référenceen  analyse  de données.  Il  s’agit  de  résumer  l’information  contenue  dans  un  fichier  décrivant  (n  =  18) véhicules à l’aide de (p=6) variables."
   ]
  },
  {
   "cell_type": "markdown",
   "metadata": {},
   "source": [
    "Disposant des résultats par ailleurs [Saporta, pages 177 et suivantes; TUTO_R; ACP]1, nous pourrons étalonner nos sorties à chaque étape. En effet, appliquer l’outil PCA sur les données pour obtenir les coordonnées factorielles des individus et des variables(vecteurs propres)est relativement  simple.  Les  difficultés  commencent  avec  la  production  des éléments d’aide à l’interprétation  (COS²  et  CTR  des  individus  et  variables,  cercle  des  corrélations),et  le traitement des individus et variables illustratifs. Il faudra mettre un peu la main à la pâte. On se  rend  compte  que  Python est  parfaitement outillé  et  souple  pour  réaliser  une étudecomplète, équivalente à ce que l’on pourrait obtenir sous R avec des packages performants.Il faut savoir exploiter les résultats intermédiaires fournis par PCA simplement."
   ]
  },
  {
   "cell_type": "markdown",
   "metadata": {},
   "source": [
    "# 3 ACP et aide à l'interprétation"
   ]
  },
  {
   "cell_type": "markdown",
   "metadata": {},
   "source": [
    "## 3.1 Importation des données actives"
   ]
  },
  {
   "cell_type": "code",
   "execution_count": 2,
   "metadata": {},
   "outputs": [
    {
     "name": "stdout",
     "output_type": "stream",
     "text": [
      "1.2.4\n"
     ]
    }
   ],
   "source": [
    "import pandas\n",
    "import matplotlib.pyplot as plt\n",
    "import numpy\n",
    "\n",
    "#version\n",
    "print(pandas.__version__)\n",
    "\n",
    "#chargement de la première feuille de données\n",
    "X = pandas.read_excel(\"auto.xlsx\",sheet_name=0,header=0,index_col=0)"
   ]
  },
  {
   "cell_type": "markdown",
   "metadata": {},
   "source": [
    "Nous remarquons que:\n",
    "\n",
    "    • Le fichier est un classeur Excel nommé «autos_acp_pour_python.xlsx»;\n",
    "\n",
    "    • Les données actives sont situées dans la première feuille (sheet_name = 0);\n",
    "\n",
    "    • La première ligne correspond aux noms des variables (header = 0)\n",
    "\n",
    "    • La première colonne aux identifiants des observations (index_col =0).Nous  affichons  la  dimension  dela  matrice, nous récupérons le nombre d’observations (n = 18) et de variables (p = 6), enfin nous affichons les valeurs mêmes.\n",
    "\n",
    "Nous affichons la dimension de la matrice, nous récupérons le nombre d’observations (n =\n",
    "18) et de variables (p = 6), enfin nous affichons les valeurs mêmes."
   ]
  },
  {
   "cell_type": "code",
   "execution_count": 3,
   "metadata": {},
   "outputs": [
    {
     "name": "stdout",
     "output_type": "stream",
     "text": [
      "(18, 6)\n",
      "                  CYL  PUISS  LONG  LARG  POIDS  V_MAX\n",
      "Modele                                                \n",
      "Alfasud TI       1350     79   393   161    870    165\n",
      "Audi 100         1588     85   468   177   1110    160\n",
      "Simca 1300       1294     68   424   168   1050    152\n",
      "Citroen GS Club  1222     59   412   161    930    151\n",
      "Fiat 132         1585     98   439   164   1105    165\n",
      "Lancia Beta      1297     82   429   169   1080    160\n",
      "Peugeot 504      1796     79   449   169   1160    154\n",
      "Renault 16 TL    1565     55   424   163   1010    140\n",
      "Renault 30       2664    128   452   173   1320    180\n",
      "Toyota Corolla   1166     55   399   157    815    140\n",
      "Alfetta-1.66     1570    109   428   162   1060    175\n",
      "Princess-1800    1798     82   445   172   1160    158\n",
      "Datsun-200L      1998    115   469   169   1370    160\n",
      "Taunus-2000      1993     98   438   170   1080    167\n",
      "Rancho           1442     80   431   166   1129    144\n",
      "Mazda-9295       1769     83   440   165   1095    165\n",
      "Opel-Rekord      1979    100   459   173   1120    173\n",
      "Lada-1300        1294     68   404   161    955    140\n"
     ]
    }
   ],
   "source": [
    "#dimension\n",
    "print(X.shape)\n",
    "\n",
    "#nombre d'observations\n",
    "n = X.shape[0]\n",
    "\n",
    "#nombre de variables\n",
    "p = X.shape[1]\n",
    "\n",
    "#affichagedes données\n",
    "print(X)"
   ]
  },
  {
   "cell_type": "markdown",
   "metadata": {},
   "source": [
    "## 3.2 Préparation des données"
   ]
  },
  {
   "cell_type": "markdown",
   "metadata": {},
   "source": [
    "Nous devons explicitement centrer et réduire les variables pour réaliser une ACP normée\n",
    "avec PCA. Nous utilisons la classe StandardScaler pour ce faire. Ici aussi, il est important de\n",
    "vérifier la version de ‘’scikit-learn’’ utilisée."
   ]
  },
  {
   "cell_type": "code",
   "execution_count": 4,
   "metadata": {},
   "outputs": [
    {
     "name": "stdout",
     "output_type": "stream",
     "text": [
      "0.24.1\n"
     ]
    }
   ],
   "source": [
    "#scikit-learn\n",
    "import sklearn\n",
    "#vérification de la version\n",
    "print(sklearn.__version__)"
   ]
  },
  {
   "cell_type": "markdown",
   "metadata": {},
   "source": [
    "Nous instancions l’objet et nous l’appliquons sur la matrice X. Nous obtenons une matrice Z\n",
    "𝑧𝑖𝑗 =\n",
    "𝑥𝑖𝑗 − 𝑥̅𝑗\n",
    "𝜎𝑗\n",
    "Où 𝑥̅𝑗 =\n",
    "1\n",
    "𝑛\n",
    "∑ 𝑥𝑖𝑗\n",
    "𝑛\n",
    "𝑖=1\n",
    "est la moyenne de la variable Xj, 𝜎𝑗 = √\n",
    "1\n",
    "𝑛\n",
    "∑ (𝑥𝑖𝑗 − 𝑥̅𝑗)²\n",
    "𝑛\n",
    "𝑖=1\n",
    "son écart-type."
   ]
  },
  {
   "cell_type": "code",
   "execution_count": 5,
   "metadata": {},
   "outputs": [
    {
     "name": "stdout",
     "output_type": "stream",
     "text": [
      "[[-0.77509889 -0.28335818 -1.88508077 -1.09734528 -1.56900676  0.56976043]\n",
      " [-0.12016326  0.01963869  1.60580955  2.0010414   0.23416142  0.14597168]\n",
      " [-0.92920139 -0.83885242 -0.44217944  0.25819889 -0.21663062 -0.53209032]\n",
      " [-1.12733318 -1.29334771 -1.00072189 -1.09734528 -1.11821472 -0.61684807]\n",
      " [-0.12841875  0.67613189  0.25599862 -0.51639778  0.19659542  0.56976043]\n",
      " [-0.9209459  -0.13185975 -0.20945342  0.45184806  0.0087654   0.14597168]\n",
      " [ 0.45221746 -0.28335818  0.72145067  0.45184806  0.60982146 -0.36257482]\n",
      " [-0.18345536 -1.49534562 -0.44217944 -0.71004695 -0.51715865 -1.54918332]\n",
      " [ 2.84080623  2.19111619  0.86108628  1.22644473  1.81193359  1.84112668]\n",
      " [-1.28143568 -1.49534562 -1.60580955 -1.87194195 -1.98223281 -1.54918332]\n",
      " [-0.16969621  1.23162613 -0.25599862 -0.90369611 -0.14149861  1.41733793]\n",
      " [ 0.45772112 -0.13185975  0.53526985  1.03279556  0.60982146 -0.02354382]\n",
      " [ 1.0080872   1.53462299  1.65235475  0.45184806  2.18759363  0.14597168]\n",
      " [ 0.99432805  0.67613189  0.20945342  0.64549722  0.0087654   0.73927593]\n",
      " [-0.5219305  -0.2328587  -0.11636301 -0.12909944  0.37691224 -1.21015232]\n",
      " [ 0.37791804 -0.08136027  0.30254383 -0.32274861  0.12146341  0.56976043]\n",
      " [ 0.95580242  0.77713084  1.18690271  1.22644473  0.30929343  1.24782243]\n",
      " [-0.92920139 -0.83885242 -1.37308353 -1.09734528 -0.9303847  -1.54918332]]\n"
     ]
    }
   ],
   "source": [
    "#classe pour standardisation\n",
    "from sklearn.preprocessing import StandardScaler\n",
    "\n",
    "#instanciation\n",
    "sc = StandardScaler()\n",
    "\n",
    "#transformation–centrage-réduction\n",
    "Z = sc.fit_transform(X)\n",
    "print(Z)"
   ]
  },
  {
   "cell_type": "markdown",
   "metadata": {},
   "source": [
    "Vérifions, par acquit de conscience, les propriétés du nouvel ensemble de données. Les\n",
    "moyennes sont maintenant nulles (aux erreurs de troncature près) :"
   ]
  },
  {
   "cell_type": "code",
   "execution_count": 6,
   "metadata": {},
   "outputs": [
    {
     "name": "stdout",
     "output_type": "stream",
     "text": [
      "[-2.22044605e-16 -1.41861831e-16  0.00000000e+00  1.86270752e-15\n",
      "  5.73615229e-16  5.55111512e-16]\n"
     ]
    }
   ],
   "source": [
    "#vérification -librairie numpy\n",
    "import numpy\n",
    "#moyenne\n",
    "print(numpy.mean(Z,axis=0))"
   ]
  },
  {
   "cell_type": "markdown",
   "metadata": {},
   "source": [
    "Et les écarts-type unitaires."
   ]
  },
  {
   "cell_type": "code",
   "execution_count": 7,
   "metadata": {},
   "outputs": [
    {
     "name": "stdout",
     "output_type": "stream",
     "text": [
      "[1. 1. 1. 1. 1. 1.]\n"
     ]
    }
   ],
   "source": [
    "#écart-type\n",
    "print(numpy.std(Z,axis=0,ddof=0))"
   ]
  },
  {
   "cell_type": "markdown",
   "metadata": {},
   "source": [
    "Nous sommes maintenant parés pour lancer l’ACP."
   ]
  },
  {
   "cell_type": "markdown",
   "metadata": {},
   "source": [
    "## 3.3 Analyse en composantes principales avec PCA de scikit-learn"
   ]
  },
  {
   "cell_type": "markdown",
   "metadata": {},
   "source": [
    "### 3.3.1 Instanciation et lancement des calculs"
   ]
  },
  {
   "cell_type": "markdown",
   "metadata": {},
   "source": [
    "Il faut instancier l’objet PCA dans un premier temps, nous affichons ses propriétés."
   ]
  },
  {
   "cell_type": "code",
   "execution_count": 8,
   "metadata": {},
   "outputs": [],
   "source": [
    "#classe pour l'ACP\n",
    "from sklearn.decomposition import PCA\n",
    "#instanciation\n",
    "acp = PCA(svd_solver='full')"
   ]
  },
  {
   "cell_type": "code",
   "execution_count": 9,
   "metadata": {},
   "outputs": [
    {
     "name": "stdout",
     "output_type": "stream",
     "text": [
      "PCA(svd_solver='full')\n"
     ]
    }
   ],
   "source": [
    "#affichage des paramètres\n",
    "print(acp)"
   ]
  },
  {
   "cell_type": "markdown",
   "metadata": {},
   "source": [
    "Le paramètre (svd_solver = ‘full’) indique l’algorithme utilisé pour la décomposition en\n",
    "valeurs singulières. Nous choisissons la méthode ‘’exacte’’, sélectionnée de toute manière par\n",
    "défaut pour l’appréhension des bases de taille réduite. D’autres approches sont disponibles\n",
    "pour le traitement des grands ensembles de données. Le nombre de composantes (K) n’étant\n",
    "pas spécifié (n_components = None), il est par défaut égal au nombre de variables (K = p).\n",
    "Nous pouvons lancer les traitements dans un second temps. La fonction fit_transform()\n",
    "renvoie en sortie les coordonnées factorielles Fik que nous collectons dans la variable coord\n",
    "[TUTO_R, page 4 pour lancer l’ACP, page 7 pour la récupération du champs $scores des\n",
    "coordonnées factorielles]. Nous affichons le nombre de composantes générées (K), il est bien\n",
    "égal à p = 6."
   ]
  },
  {
   "cell_type": "code",
   "execution_count": 10,
   "metadata": {},
   "outputs": [
    {
     "name": "stdout",
     "output_type": "stream",
     "text": [
      "6\n"
     ]
    }
   ],
   "source": [
    "#calculs\n",
    "coord = acp.fit_transform(Z)\n",
    "#nombre de composantes calculées\n",
    "print(acp.n_components_)"
   ]
  },
  {
   "cell_type": "markdown",
   "metadata": {},
   "source": [
    "### 3.3.2 Valeurs propres et scree plot"
   ]
  },
  {
   "cell_type": "markdown",
   "metadata": {},
   "source": [
    "La   propriété .explained_variance_semble  faire  l’affaire  pour  obtenir  les  variances (valeurs propres, λk) associées aux axes factoriels."
   ]
  },
  {
   "cell_type": "code",
   "execution_count": 11,
   "metadata": {},
   "outputs": [
    {
     "name": "stdout",
     "output_type": "stream",
     "text": [
      "[4.68090853 0.90641889 0.39501114 0.22650574 0.09826011 0.04583676]\n"
     ]
    }
   ],
   "source": [
    "#variance expliquée\n",
    "print(acp.explained_variance_)"
   ]
  },
  {
   "cell_type": "markdown",
   "metadata": {},
   "source": [
    "Patatras... nous n’avons pas les mêmes valeurs que sous R [TUTO_R,  page  5].  Je  me  suis rendu compte qu’il faut appliquer une correction."
   ]
  },
  {
   "cell_type": "code",
   "execution_count": 12,
   "metadata": {},
   "outputs": [
    {
     "name": "stdout",
     "output_type": "stream",
     "text": [
      "[4.42085806 0.85606229 0.37306608 0.21392209 0.09280121 0.04329027]\n"
     ]
    }
   ],
   "source": [
    "#valeur corrigée\n",
    "eigval = (n-1)/n*acp.explained_variance_\n",
    "print(eigval)"
   ]
  },
  {
   "cell_type": "markdown",
   "metadata": {},
   "source": [
    "Là,tout rentre dans l’ordre [TUTO_R, page 5; ACP, page 23].\n",
    "\n",
    "Nous  aurions  pu  obtenir  les  bonnes  valeurs  propres  en  passant  par  les  valeurs  singulières .singular_values_issues de la factorisation de la matrice des données centrées et réduites [ACP, page 20]"
   ]
  },
  {
   "cell_type": "code",
   "execution_count": 13,
   "metadata": {},
   "outputs": [
    {
     "name": "stdout",
     "output_type": "stream",
     "text": [
      "[4.42085806 0.85606229 0.37306608 0.21392209 0.09280121 0.04329027]\n"
     ]
    }
   ],
   "source": [
    "#ou bien en passant par les valeurs singulières\n",
    "print(acp.singular_values_**2/n)"
   ]
  },
  {
   "cell_type": "markdown",
   "metadata": {},
   "source": [
    "PCA fournit également les proportions de variance associées aux axes. Il n’est pas nécessaire d’effectuer une correction dans ce cas."
   ]
  },
  {
   "cell_type": "code",
   "execution_count": 14,
   "metadata": {},
   "outputs": [
    {
     "name": "stdout",
     "output_type": "stream",
     "text": [
      "[0.73680968 0.14267705 0.06217768 0.03565368 0.01546687 0.00721505]\n"
     ]
    }
   ],
   "source": [
    "#proportion de variance expliquée\n",
    "print(acp.explained_variance_ratio_)"
   ]
  },
  {
   "cell_type": "markdown",
   "metadata": {},
   "source": [
    "La  première  composante  accapare  73.68%  de l’information disponible. Il y a un fort ‘’effet taille’’ dans nos données[ACP,  page  55].Nous  disposons  de  87.94%  avec  les  deux  premiers facteurs. Les suivants semblent anecdotiques.\n",
    "Nous disposons des éléments permettant de construire le graphique ‘’Scree plot’’ (éboulis des valeurs propres)(Figure 2)."
   ]
  },
  {
   "cell_type": "code",
   "execution_count": 15,
   "metadata": {},
   "outputs": [
    {
     "data": {
      "image/png": "[encoded data removed]",
      "text/plain": [
       "<Figure size 432x288 with 1 Axes>"
      ]
     },
     "metadata": {
      "needs_background": "light"
     },
     "output_type": "display_data"
    }
   ],
   "source": [
    "#scree plot\n",
    "plt.plot(numpy.arange(1,p+1),eigval)\n",
    "plt.title(\"Scree plot\")\n",
    "plt.ylabel(\"Eigen values\")\n",
    "plt.xlabel(\"Factor number\")\n",
    "plt.show()"
   ]
  },
  {
   "cell_type": "markdown",
   "metadata": {},
   "source": [
    "Le graphique du cumul de variance restituée selon le nombre de facteurs peut être\n",
    "intéressant également (Figure 3)."
   ]
  },
  {
   "cell_type": "code",
   "execution_count": 16,
   "metadata": {},
   "outputs": [
    {
     "data": {
      "image/png": "[encoded data removed]",
      "text/plain": [
       "<Figure size 432x288 with 1 Axes>"
      ]
     },
     "metadata": {
      "needs_background": "light"
     },
     "output_type": "display_data"
    }
   ],
   "source": [
    "#cumul de variance expliquée\n",
    "plt.plot(numpy.arange(1,p+1),numpy.cumsum(acp.explained_variance_ratio_))\n",
    "plt.title(\"Explained variance vs. # of factors\")\n",
    "plt.ylabel(\"Cumsum explained variance ratio\")\n",
    "plt.xlabel(\"Factor number\")\n",
    "plt.show()"
   ]
  },
  {
   "cell_type": "markdown",
   "metadata": {},
   "source": [
    "### 3.3.3 Détermination du nombre de facteur à retenir"
   ]
  },
  {
   "cell_type": "markdown",
   "metadata": {},
   "source": [
    "Les ‘’cassures’’ dans les graphiques ci-dessus (Figure 2, Figure 3) sont souvent évoquées\n",
    "(règle du coude) pour identifier le nombre de facteurs K* à retenir. La solution (K* = 2)\n",
    "semble s’imposer ici.\n",
    "D’autres pistes existent pour répondre à cette question toujours délicate qui conditionne\n",
    "l’interprétation de l’ACP, notamment le « test des bâtons brisés » de Legendre & Legendre\n",
    "(1983) [ACP, page 25 ; voir aussi « ACP avec R – Détection du nombre d’axes », Juin 2012].\n",
    "Les seuils sont définis par :\n",
    "𝑏𝑘 = ∑\n",
    "1\n",
    "𝑚\n",
    "𝑝\n",
    "𝑚=𝑘\n",
    "Le facteur n°k est validé si (λk > bk), où λk est la valeur propre associée à l’axe n°k.\n",
    "Calculons ces seuils :"
   ]
  },
  {
   "cell_type": "code",
   "execution_count": 17,
   "metadata": {},
   "outputs": [],
   "source": [
    "#seuils pour test des bâtons brisés\n",
    "bs = 1/numpy.arange(p,0,-1)\n",
    "bs = numpy.cumsum(bs)\n",
    "bs = bs[::-1]"
   ]
  },
  {
   "cell_type": "markdown",
   "metadata": {},
   "source": [
    "Puis affichons conjointement les valeurs propres et les seuils :"
   ]
  },
  {
   "cell_type": "code",
   "execution_count": 18,
   "metadata": {},
   "outputs": [
    {
     "name": "stdout",
     "output_type": "stream",
     "text": [
      "   Val.Propre    Seuils\n",
      "0    4.420858  2.450000\n",
      "1    0.856062  1.450000\n",
      "2    0.373066  0.950000\n",
      "3    0.213922  0.616667\n",
      "4    0.092801  0.366667\n",
      "5    0.043290  0.166667\n"
     ]
    }
   ],
   "source": [
    "#test des bâtons brisés\n",
    "print(pandas.DataFrame({'Val.Propre':eigval,'Seuils':bs}))"
   ]
  },
  {
   "cell_type": "markdown",
   "metadata": {},
   "source": [
    "Avec cette procédure, seul le premier facteur est valide. Le cercle des corrélations que nous\n",
    "construirons par la suite (Figure 5) semble aller dans le même sens.\n",
    "Néanmoins, par commodité (pas seulement en réalité, cette étude est plus subtile qu’elle n’en\n",
    "a l’air [ACP, page 39]), nous choisissons K* = 2 pour pouvoir représenter les individus et les\n",
    "variables dans le plan."
   ]
  },
  {
   "cell_type": "markdown",
   "metadata": {},
   "source": [
    "### 3.3.4 Représentation des individus – Outils pour l’interprétation"
   ]
  },
  {
   "cell_type": "markdown",
   "metadata": {},
   "source": [
    "Coordonnées factorielles. Les coordonnées factorielles (Fik) des individus ont été\n",
    "collectées dans la variable coord (Section 3.3.1). Nous les positionnons dans le premier plan\n",
    "factoriel avec leurs labels pour situer et comprendre les proximités entre les véhicules.\n",
    "Je ferai deux commentaires au préalable :\n",
    "1. L’ajout d’une étiquette dans un graphique nuage de points n’est pas très pratique sous\n",
    "Python (librairie Matplotlib), ma solution a le mérite de fonctionner, je ne sais pas s’il y a\n",
    "plus simple (j’ai cherché pourtant).\n",
    "2. Les outils graphiques calculent souvent automatiquement les échelles en fonction des\n",
    "plages de valeurs. Ce n’est pas une bonne idée en ce qui concerne l’ACP. En effet, les axes\n",
    "n’ont pas la même importance (% de variance restituée). Pour ne pas fausser la\n",
    "perception des proximités, il est très important de veiller à ce que les échelles soient\n",
    "identiques en abscisse et en ordonnée. Respecter cette règle nous dispense de faire afficher les pourcentages de variance portés par les axes. Nous nous rendons compte\n",
    "directement dans notre graphique que les dispersions des individus sont nettement plus\n",
    "marquées sur le premier axe, en abscisse (Figure 4)."
   ]
  },
  {
   "cell_type": "code",
   "execution_count": 19,
   "metadata": {},
   "outputs": [
    {
     "name": "stdout",
     "output_type": "stream",
     "text": [
      "                        1         2         3         4         5         6\n",
      "Modele                                                                     \n",
      "Alfasud TI      -2.138924  1.785681  0.571862  0.201927 -0.301357  0.053921\n",
      "Audi 100         1.561459 -1.527040  1.315271 -0.211352  0.148516 -0.327238\n",
      "Simca 1300      -1.119385 -0.674505  0.456588 -0.167626 -0.375364  0.271803\n",
      "Citroen GS Club -2.573742  0.112884  0.148570 -0.017343  0.226853  0.263476\n",
      "Fiat 132         0.427855  0.695567 -0.193286 -0.627754  0.263505 -0.037153\n",
      "Lancia Beta     -0.304238 -0.196149  0.675803 -0.555941 -0.445086  0.200083\n",
      "Peugeot 504      0.683928 -0.933057 -0.256823  0.203134  0.208652  0.153892\n",
      "Renault 16 TL   -1.948493 -0.980448 -0.619575  0.630319  0.293165  0.108642\n",
      "Renault 30       4.409735  1.063633 -0.593528  0.847248 -0.374890  0.043997\n",
      "Toyota Corolla  -3.985782  0.236240 -0.303133  0.265122  0.278428 -0.328892\n",
      "Alfetta-1.66     0.437658  1.912448  0.024942 -0.758910  0.168103 -0.054241\n",
      "Princess-1800    1.018175 -0.841712  0.216610  0.303426 -0.184876  0.184894\n",
      "Datsun-200L      2.941080 -0.559175 -1.243988 -0.772171  0.054412 -0.057263\n",
      "Taunus-2000      1.314880  0.486522  0.282621  0.582226 -0.066735 -0.253092\n",
      "Rancho          -0.691111 -0.897721 -0.628407 -0.357737 -0.377086 -0.121532\n",
      "Mazda-9295       0.385709  0.356185 -0.075583  0.102899  0.527043  0.338832\n",
      "Opel-Rekord      2.289768  0.104345  0.796384  0.236347  0.338461 -0.156681\n",
      "Lada-1300       -2.708574 -0.143699 -0.574329  0.096185 -0.381746 -0.283448\n"
     ]
    }
   ],
   "source": [
    "#coordonnées factorielles des individus\n",
    "cf = pandas.DataFrame(coord,index=X.index,columns=numpy.arange(1,p+1))\n",
    "print(cf)\n"
   ]
  },
  {
   "cell_type": "code",
   "execution_count": 20,
   "metadata": {},
   "outputs": [
    {
     "data": {
      "image/png": "[encoded data removed]",
      "text/plain": [
       "<Figure size 864x864 with 1 Axes>"
      ]
     },
     "metadata": {
      "needs_background": "light"
     },
     "output_type": "display_data"
    }
   ],
   "source": [
    "#positionnement des individus dans le premier plan\n",
    "fig, axes = plt.subplots(figsize=(12,12))\n",
    "axes.set_xlim(-6,6)\n",
    "axes.set_ylim(-6,6)\n",
    "\n",
    "for i in range(n):\n",
    "    plt.annotate(X.index[i],(coord[i,0],coord[i,1]))\n",
    "    \n",
    "#ajouter les axes\n",
    "plt.plot([-6,6],[0,0],color='silver',linestyle='-',linewidth=1)\n",
    "plt.plot([0,0],[-6,6],color='silver',linestyle='-',linewidth=1)\n",
    "\n",
    "#affichage\n",
    "plt.show()"
   ]
  },
  {
   "cell_type": "markdown",
   "metadata": {},
   "source": [
    "Qualité de représentation – Les COS² (cosinus carré). Pour calculer la qualité de\n",
    "représentation des individus sur les axes, nous devons d’abord calculer les carrés des\n",
    "distances à l’origine des individus, qui correspondent également à leur contribution dans\n",
    "l’inertie totale [ACP, page 30 ; TUTO_R, page 9]\n",
    "𝑑𝑖\n",
    "2 = ∑𝑧𝑖𝑗\n",
    "2\n",
    "𝑝\n",
    "𝑗=1"
   ]
  },
  {
   "cell_type": "code",
   "execution_count": 21,
   "metadata": {},
   "outputs": [
    {
     "name": "stdout",
     "output_type": "stream",
     "text": [
      "                 ID        d_i\n",
      "0        Alfasud TI   8.225176\n",
      "1          Audi 100   6.673755\n",
      "2        Simca 1300   2.159327\n",
      "3   Citroen GS Club   6.780145\n",
      "4          Fiat 132   1.169124\n",
      "5       Lancia Beta   1.134950\n",
      "6       Peugeot 504   1.512793\n",
      "7     Renault 16 TL   5.636826\n",
      "8        Renault 30  21.789657\n",
      "9    Toyota Corolla  16.290143\n",
      "10     Alfetta-1.66   4.456770\n",
      "11    Princess-1800   1.952513\n",
      "12      Datsun-200L  11.112624\n",
      "13      Taunus-2000   2.452986\n",
      "14           Rancho   1.963373\n",
      "15       Mazda-9295   0.684521\n",
      "16      Opel-Rekord   6.083119\n",
      "17        Lada-1300   7.922198\n"
     ]
    }
   ],
   "source": [
    "#contribution des individus dans l'inertie totale\n",
    "di = numpy.sum(Z**2,axis=1)\n",
    "print(pandas.DataFrame({'ID':X.index,'d_i':di}))"
   ]
  },
  {
   "cell_type": "markdown",
   "metadata": {},
   "source": [
    "Concrètement, la Renault 30 et la Toyota Corolla sont les deux véhicules qui se démarquent\n",
    "le plus des autres, et on les retrouve aux deux extrémités du premier axe factoriel qui porte\n",
    "73.68% de l’information disponible (Figure 4)."
   ]
  },
  {
   "cell_type": "markdown",
   "metadata": {},
   "source": [
    "Nous pouvons alors déduire la qualité de représentation des individus sur l’axe n°k avec :\n",
    "𝐶𝑂𝑆𝑖𝑘\n",
    "2 =\n",
    "𝐹𝑖𝑘\n",
    "2\n",
    "𝑑𝑖"
   ]
  },
  {
   "cell_type": "code",
   "execution_count": 22,
   "metadata": {},
   "outputs": [
    {
     "name": "stdout",
     "output_type": "stream",
     "text": [
      "                 id    COS2_1    COS2_2\n",
      "0        Alfasud TI  0.556218  0.387670\n",
      "1          Audi 100  0.365334  0.349406\n",
      "2        Simca 1300  0.580284  0.210694\n",
      "3   Citroen GS Club  0.976992  0.001879\n",
      "4          Fiat 132  0.156579  0.413826\n",
      "5       Lancia Beta  0.081555  0.033900\n",
      "6       Peugeot 504  0.309202  0.575488\n",
      "7     Renault 16 TL  0.673539  0.170535\n",
      "8        Renault 30  0.892431  0.051920\n",
      "9    Toyota Corolla  0.975219  0.003426\n",
      "10     Alfetta-1.66  0.042978  0.820652\n",
      "11    Princess-1800  0.530947  0.362855\n",
      "12      Datsun-200L  0.778390  0.028137\n",
      "13      Taunus-2000  0.704819  0.096496\n",
      "14           Rancho  0.243273  0.410469\n",
      "15       Mazda-9295  0.217336  0.185337\n",
      "16      Opel-Rekord  0.861900  0.001790\n",
      "17        Lada-1300  0.926052  0.002607\n",
      "[1. 1. 1. 1. 1. 1. 1. 1. 1. 1. 1. 1. 1. 1. 1. 1. 1. 1.]\n"
     ]
    }
   ],
   "source": [
    "#qualité de représentation des individus - COS2\n",
    "cos2 = coord**2\n",
    "for j in range(p):\n",
    "    cos2[:,j] = cos2[:,j]/di\n",
    "\n",
    "print(pandas.DataFrame({'id':X.index,'COS2_1':cos2[:,0],'COS2_2':cos2[:,1]}))\n",
    "\n",
    "#vérifions la théorie - somme en ligne des cos2 = 1\n",
    "print(numpy.sum(cos2,axis=1))"
   ]
  },
  {
   "cell_type": "markdown",
   "metadata": {},
   "source": [
    "Les COS² pour les deux premiers facteurs sont affichés [ACP, page 30 ; TUTO_R, page 9]"
   ]
  },
  {
   "cell_type": "markdown",
   "metadata": {},
   "source": [
    "Conformément à la théorie, pour chaque individu, la somme des COS² sur l’ensemble des\n",
    "facteurs est égale à 1.\n",
    "∑𝐶𝑂𝑆𝑖𝑘\n",
    "2\n",
    "𝑝\n",
    "𝑘=1\n",
    "= 1"
   ]
  },
  {
   "cell_type": "code",
   "execution_count": 23,
   "metadata": {},
   "outputs": [
    {
     "name": "stdout",
     "output_type": "stream",
     "text": [
      "[1. 1. 1. 1. 1. 1. 1. 1. 1. 1. 1. 1. 1. 1. 1. 1. 1. 1.]\n"
     ]
    }
   ],
   "source": [
    "#vérifions la théorie - somme en ligne des cos2 = 1\n",
    "print(numpy.sum(cos2,axis=1))"
   ]
  },
  {
   "cell_type": "markdown",
   "metadata": {},
   "source": [
    "Contribution des individus aux axes (CTR). Elles permettent de déterminer les\n",
    "individus qui pèsent le plus dans la définition de chaque facteur.\n",
    "𝐶𝑇𝑅𝑖𝑘 =\n",
    "𝐹𝑖𝑘\n",
    "2\n",
    "𝑛 × 𝜆�"
   ]
  },
  {
   "cell_type": "code",
   "execution_count": 24,
   "metadata": {},
   "outputs": [
    {
     "name": "stdout",
     "output_type": "stream",
     "text": [
      "                 id     CTR_1     CTR_2\n",
      "0        Alfasud TI  0.057493  0.206933\n",
      "1          Audi 100  0.030640  0.151329\n",
      "2        Simca 1300  0.015746  0.029525\n",
      "3   Citroen GS Club  0.083244  0.000827\n",
      "4          Fiat 132  0.002300  0.031398\n",
      "5       Lancia Beta  0.001163  0.002497\n",
      "6       Peugeot 504  0.005878  0.056499\n",
      "7     Renault 16 TL  0.047711  0.062384\n",
      "8        Renault 30  0.244369  0.073419\n",
      "9    Toyota Corolla  0.199640  0.003622\n",
      "10     Alfetta-1.66  0.002407  0.237357\n",
      "11    Princess-1800  0.013028  0.045978\n",
      "12      Datsun-200L  0.108701  0.020292\n",
      "13      Taunus-2000  0.021727  0.015361\n",
      "14           Rancho  0.006002  0.052300\n",
      "15       Mazda-9295  0.001870  0.008233\n",
      "16      Opel-Rekord  0.065888  0.000707\n",
      "17        Lada-1300  0.092194  0.001340\n"
     ]
    }
   ],
   "source": [
    "#contributions aux axes\n",
    "ctr = coord**2\n",
    "for j in range(p):\n",
    "    ctr[:,j] = ctr[:,j]/(n*eigval[j])\n",
    "    \n",
    "print(pandas.DataFrame({'id':X.index,'CTR_1':ctr[:,0],'CTR_2':ctr[:,1]}))"
   ]
  },
  {
   "cell_type": "markdown",
   "metadata": {},
   "source": [
    "Sans surprises, ce sont la Renault 30 et la Toyota Corolla qui sont déterminants pour le\n",
    "premier axe ; pour le second, nous avons l’Alfetta-1.66, l’Alfasud TI et l’Audi 100.\n",
    "Les sommes en ligne sont égales à l’unité ici :\n",
    "∑𝐶𝑇𝑅𝑖𝑘\n",
    "𝑛\n",
    "𝑖=1\n",
    "= 1"
   ]
  },
  {
   "cell_type": "code",
   "execution_count": 25,
   "metadata": {},
   "outputs": [
    {
     "name": "stdout",
     "output_type": "stream",
     "text": [
      "[1. 1. 1. 1. 1. 1.]\n"
     ]
    }
   ],
   "source": [
    "#vérifions la théorie\n",
    "print(numpy.sum(ctr,axis=0))"
   ]
  },
  {
   "cell_type": "markdown",
   "metadata": {},
   "source": [
    "### 3.3.5 Représentation des variables – Outils pour l’aide à l’interprétation"
   ]
  },
  {
   "cell_type": "markdown",
   "metadata": {},
   "source": [
    "Nous avons besoin des vecteurs propres pour l’analyse des variables. Ils sont fournis par le\n",
    "champ .components_"
   ]
  },
  {
   "cell_type": "code",
   "execution_count": 26,
   "metadata": {},
   "outputs": [
    {
     "name": "stdout",
     "output_type": "stream",
     "text": [
      "[[ 0.42493602  0.42179441  0.42145993  0.38692224  0.43051198  0.35894427]\n",
      " [ 0.12419108  0.41577389 -0.41181773 -0.446087   -0.24267581  0.6198626 ]\n",
      " [-0.35361252 -0.18492049  0.06763394  0.60486812 -0.48439601  0.48547226]\n",
      " [ 0.80778648 -0.35779199 -0.27975231  0.21156941 -0.30171136 -0.0735743 ]\n",
      " [ 0.15158003 -0.29373465  0.73056903 -0.47819008 -0.30455842  0.18865511]\n",
      " [-0.05889517 -0.63303302 -0.19029153 -0.10956624  0.5808122   0.45852167]]\n"
     ]
    }
   ],
   "source": [
    "#le champ components_ de l'objet ACP\n",
    "print(acp.components_)"
   ]
  },
  {
   "cell_type": "markdown",
   "metadata": {},
   "source": [
    "Attention, par rapport à R [TUTO_R, page 6], les facteurs sont en ligne, les variables en\n",
    "colonne. Nous devons en tenir compte pour obtenir les corrélations (variables x facteurs, 𝑟𝑗𝑘)\n",
    "en les multipliant par la racine carrée des valeurs propres :"
   ]
  },
  {
   "cell_type": "code",
   "execution_count": 27,
   "metadata": {},
   "outputs": [],
   "source": [
    "#racine carrée des valeurs propres\n",
    "sqrt_eigval = numpy.sqrt(eigval)"
   ]
  },
  {
   "cell_type": "code",
   "execution_count": 28,
   "metadata": {},
   "outputs": [
    {
     "name": "stdout",
     "output_type": "stream",
     "text": [
      "[[ 0.89346354  0.1149061  -0.21598347  0.37361508  0.04617627 -0.01225391]\n",
      " [ 0.88685803  0.38468911 -0.11294784 -0.16548492 -0.08948124 -0.13171084]\n",
      " [ 0.88615477 -0.38102873  0.04131023 -0.12939024  0.22255537 -0.03959265]\n",
      " [ 0.81353638 -0.4127359   0.36944822  0.09785447 -0.14567244 -0.0227967 ]\n",
      " [ 0.90518746 -0.22453248 -0.29586489 -0.13954667 -0.09277852  0.12084561]\n",
      " [ 0.75471037  0.57351941  0.29652226 -0.03402937  0.05747056  0.09540146]]\n"
     ]
    }
   ],
   "source": [
    "#corrélation des variables avec les axes\n",
    "corvar = numpy.zeros((p,p))\n",
    "\n",
    "for k in range(p):\n",
    "    corvar[:,k] = acp.components_[k,:] * sqrt_eigval[k]\n",
    "    \n",
    "#afficher la matrice des corrélations variables x facteurs    \n",
    "print(corvar)"
   ]
  },
  {
   "cell_type": "markdown",
   "metadata": {},
   "source": [
    "Les variables sont maintenant en ligne, les facteurs en colonne :"
   ]
  },
  {
   "cell_type": "markdown",
   "metadata": {},
   "source": [
    "Si l’on s’en tient spécifiquement aux deux premiers facteurs :"
   ]
  },
  {
   "cell_type": "code",
   "execution_count": 29,
   "metadata": {},
   "outputs": [
    {
     "name": "stdout",
     "output_type": "stream",
     "text": [
      "      id     COR_1     COR_2\n",
      "0    CYL  0.893464  0.114906\n",
      "1  PUISS  0.886858  0.384689\n",
      "2   LONG  0.886155 -0.381029\n",
      "3   LARG  0.813536 -0.412736\n",
      "4  POIDS  0.905187 -0.224532\n",
      "5  V_MAX  0.754710  0.573519\n"
     ]
    }
   ],
   "source": [
    "#on affiche pour les deux premiers axes\n",
    "print(pandas.DataFrame({'id':X.columns,'COR_1':corvar[:,0],'COR_2':corvar[:,1]}))"
   ]
  },
  {
   "cell_type": "markdown",
   "metadata": {},
   "source": [
    "Les signes sont opposés par rapport à R [TUTO_R, page 6]. Mais ce n’est pas un problème, ce\n",
    "sont les concomitances et oppositions qui comptent. De ce point de vue, les résultats sont\n",
    "complètement cohérents.\n",
    "Nous pouvons dessiner maintenant le cercle des corrélations (Figure 5)."
   ]
  },
  {
   "cell_type": "code",
   "execution_count": 30,
   "metadata": {},
   "outputs": [
    {
     "data": {
      "image/png": "[encoded data removed]",
      "text/plain": [
       "<Figure size 576x576 with 1 Axes>"
      ]
     },
     "metadata": {
      "needs_background": "light"
     },
     "output_type": "display_data"
    }
   ],
   "source": [
    "#cercle des corrélations\n",
    "fig, axes = plt.subplots(figsize=(8,8))\n",
    "axes.set_xlim(-1,1)\n",
    "axes.set_ylim(-1,1)\n",
    "\n",
    "for j in range(p):\n",
    "    plt.annotate(X.columns[j],(corvar[j,0],corvar[j,1]))\n",
    "    \n",
    "#ajouter les axes\n",
    "plt.plot([-1,1],[0,0],color='silver',linestyle='-',linewidth=1)\n",
    "plt.plot([0,0],[-1,1],color='silver',linestyle='-',linewidth=1)\n",
    "\n",
    "#ajouter un cercle\n",
    "cercle = plt.Circle((0,0),1,color='blue',fill=False)\n",
    "axes.add_artist(cercle)\n",
    "\n",
    "#affichage\n",
    "plt.show()"
   ]
  },
  {
   "cell_type": "markdown",
   "metadata": {},
   "source": [
    "On perçoit clairement l’effet taille sur le premier axe : les voitures puissantes et rapides sont\n",
    "aussi les plus lourdes et imposantes, la relation globale entre les variables est en réalité\n",
    "déterminée par la cylindrée (CYL).\n",
    "Qualité de représentation des variables (COS²). On peut calculer la qualité de\n",
    "représentation des variables en montant la corrélation au carré : 𝐶𝑂𝑆𝑗𝑘\n",
    "2 = 𝑟𝑗𝑘\n",
    "2\n",
    "[TUTO_R, page\n",
    "6 ; ACP, page 27]"
   ]
  },
  {
   "cell_type": "code",
   "execution_count": 31,
   "metadata": {},
   "outputs": [
    {
     "name": "stdout",
     "output_type": "stream",
     "text": [
      "      id    COS2_1    COS2_2\n",
      "0    CYL  0.798277  0.013203\n",
      "1  PUISS  0.786517  0.147986\n",
      "2   LONG  0.785270  0.145183\n",
      "3   LARG  0.661841  0.170351\n",
      "4  POIDS  0.819364  0.050415\n",
      "5  V_MAX  0.569588  0.328925\n",
      "[1. 1. 1. 1. 1. 1.]\n"
     ]
    }
   ],
   "source": [
    "#cosinus carré des variables\n",
    "cos2var = corvar**2\n",
    "print(pandas.DataFrame({'id':X.columns,'COS2_1':cos2var[:,0],'COS2_2':cos2var[:,1]}))\n",
    "\n",
    "#vérification de la théorie\n",
    "print(numpy.sum(cos2var,axis=1))"
   ]
  },
  {
   "cell_type": "markdown",
   "metadata": {},
   "source": [
    "La somme des COS² en ligne est égale à 1 (la somme des COS² d’une variable sur l’ensemble\n",
    "des facteurs est égale à 1 ; ∑ 𝐶𝑂𝑆𝑗𝑘\n",
    "𝑝 2\n",
    "𝑘=1 = 1).\n",
    "Contribution des variables aux axes (CTR). La contribution est également basée sur le\n",
    "carré de la corrélation, mais relativisée par l’importance de l’axe [ACP, page 27]\n",
    "𝐶𝑇𝑅𝑗𝑘 =\n",
    "𝑟𝑗𝑘\n",
    "2\n",
    "𝜆𝑘"
   ]
  },
  {
   "cell_type": "markdown",
   "metadata": {},
   "source": [
    "Les sommes en colonnes sont égales à 1 cette fois-ci."
   ]
  },
  {
   "cell_type": "code",
   "execution_count": 32,
   "metadata": {},
   "outputs": [
    {
     "name": "stdout",
     "output_type": "stream",
     "text": [
      "      id     CTR_1     CTR_2\n",
      "0    CYL  0.180571  0.015423\n",
      "1  PUISS  0.177911  0.172868\n",
      "2   LONG  0.177628  0.169594\n",
      "3   LARG  0.149709  0.198994\n",
      "4  POIDS  0.185341  0.058892\n",
      "5  V_MAX  0.128841  0.384230\n"
     ]
    }
   ],
   "source": [
    "#contributions\n",
    "ctrvar = cos2var\n",
    "\n",
    "for k in range(p):\n",
    "    ctrvar[:,k] = ctrvar[:,k]/eigval[k]\n",
    "\n",
    "#on n'affiche que pour les deux premiers axes\n",
    "print(pandas.DataFrame({'id':X.columns,'CTR_1':ctrvar[:,0],'CTR_2':ctrvar[:,1]}))"
   ]
  },
  {
   "cell_type": "markdown",
   "metadata": {},
   "source": [
    "# 4 Traitement des individus et variables illustratifs"
   ]
  },
  {
   "cell_type": "markdown",
   "metadata": {},
   "source": [
    "## 4.1 Individus supplémentaires"
   ]
  },
  {
   "cell_type": "markdown",
   "metadata": {},
   "source": [
    "Nous souhaitons positionner deux véhicules supplémentaires, des Peugeot, par rapport aux\n",
    "existantes [TUTO_R, page 14].\n",
    "Figure 6 - Individus supplémentaires\n",
    "Nous les chargeons avec read_excel() de Pandas, elles sont situées dans le seconde feuille\n",
    "du classeur Excel (sheet_name = 1)."
   ]
  },
  {
   "cell_type": "code",
   "execution_count": 33,
   "metadata": {},
   "outputs": [
    {
     "name": "stdout",
     "output_type": "stream",
     "text": [
      "                CYL  PUISS  LONG  LARG  POIDS  V_MAX\n",
      "Modele                                              \n",
      "Peugeot 604    2664    136   472   177   1410    180\n",
      "Peugeot 304 S  1288     74   414   157    915    160\n"
     ]
    }
   ],
   "source": [
    "#chargement des individus supplémentaires\n",
    "indSupp = pandas.read_excel(\"auto.xlsx\",sheet_name=1,header=0,index_col=0)\n",
    "print(indSupp)\n"
   ]
  },
  {
   "cell_type": "markdown",
   "metadata": {},
   "source": [
    "Nous devons centrer et réduire les variables des individus supplémentaires à l’aide des\n",
    "paramètres (moyennes et écarts-type) des données actives ayant servi à construire le repère\n",
    "factoriel."
   ]
  },
  {
   "cell_type": "code",
   "execution_count": 34,
   "metadata": {},
   "outputs": [
    {
     "name": "stdout",
     "output_type": "stream",
     "text": [
      "[[ 2.84080623  2.59511201  1.79199036  2.0010414   2.48812166  1.84112668]\n",
      " [-0.94571238 -0.53585556 -0.90763148 -1.87194195 -1.23091273  0.14597168]]\n"
     ]
    }
   ],
   "source": [
    "#centrage-réduction avec les paramètres des individus actifs\n",
    "ZIndSupp = sc.transform(indSupp)\n",
    "print(ZIndSupp)"
   ]
  },
  {
   "cell_type": "markdown",
   "metadata": {},
   "source": [
    "Il ne reste plus qu’à faire calculer par la fonction .transform() leurs coordonnées."
   ]
  },
  {
   "cell_type": "code",
   "execution_count": 35,
   "metadata": {},
   "outputs": [
    {
     "name": "stdout",
     "output_type": "stream",
     "text": [
      "[[ 5.56329226  0.33860928 -0.46428878  0.40214608 -0.38981076 -0.08102064]\n",
      " [-2.21224139  1.25777905 -0.09304388 -0.35370189  0.648528    0.12473042]]\n"
     ]
    }
   ],
   "source": [
    "#projection dans l'espace factoriel\n",
    "coordSupp = acp.transform(ZIndSupp)\n",
    "print(coordSupp)"
   ]
  },
  {
   "cell_type": "markdown",
   "metadata": {},
   "source": [
    "Et à les représenter dans le premier plan factoriel parmi les observations actives."
   ]
  },
  {
   "cell_type": "code",
   "execution_count": 36,
   "metadata": {},
   "outputs": [
    {
     "data": {
      "image/png": "[encoded data removed]",
      "text/plain": [
       "<Figure size 864x864 with 1 Axes>"
      ]
     },
     "metadata": {
      "needs_background": "light"
     },
     "output_type": "display_data"
    }
   ],
   "source": [
    "#positionnement des individus supplémentaires dans le premier plan\n",
    "fig, axes = plt.subplots(figsize=(12,12))\n",
    "axes.set_xlim(-6,6)\n",
    "axes.set_ylim(-6,6)\n",
    "\n",
    "for i in range(n):\n",
    "    plt.annotate(X.index[i],(coord[i,0],coord[i,1]))\n",
    "    \n",
    "for i in range(coordSupp.shape[0]):\n",
    "    plt.annotate(indSupp.index[i],(coordSupp[i,0],coordSupp[i,1]),color='b')\n",
    "\n",
    "#ajouter les axes\n",
    "plt.plot([-6,6],[0,0],color='silver',linestyle='-',linewidth=1)\n",
    "plt.plot([0,0],[-6,6],color='silver',linestyle='-',linewidth=1)\n",
    "\n",
    "#affichage\n",
    "plt.show()"
   ]
  },
  {
   "cell_type": "markdown",
   "metadata": {},
   "source": [
    "La Peugeot 604 se rapproche plutôt de la Renault 30, la Peugeot 304 de l’Alfasud TI. Pour qui\n",
    "connaît un peu les voitures de ces années-là, tout cela est parfaitement cohérent."
   ]
  },
  {
   "cell_type": "markdown",
   "metadata": {},
   "source": [
    "## 4.2 Variables supplémentaires"
   ]
  },
  {
   "cell_type": "markdown",
   "metadata": {},
   "source": [
    "Les variables illustratives sont situées dans la troisième feuille du classeur Excel (sheet_name\n",
    "= 2). Il faut avoir exactement les mêmes observations que les données actives bien\n",
    "évidemment, ce qui est le cas ici. Nous les importons :"
   ]
  },
  {
   "cell_type": "code",
   "execution_count": 37,
   "metadata": {},
   "outputs": [
    {
     "name": "stdout",
     "output_type": "stream",
     "text": [
      "                  PRIX  R_POIDS_PUIS FINITION\n",
      "Modele                                       \n",
      "Alfasud TI       30570     11.012658      2_B\n",
      "Audi 100         39990     13.058824     3_TB\n",
      "Simca 1300       29600     15.441176      1_M\n",
      "Citroen GS Club  28250     15.762712      1_M\n",
      "Fiat 132         34900     11.275510      2_B\n",
      "Lancia Beta      35480     13.170732     3_TB\n",
      "Peugeot 504      32300     14.683544      2_B\n",
      "Renault 16 TL    32000     18.363636      2_B\n",
      "Renault 30       47700     10.312500     3_TB\n",
      "Toyota Corolla   26540     14.818182      1_M\n",
      "Alfetta-1.66     42395      9.724771     3_TB\n",
      "Princess-1800    33990     14.146341      2_B\n",
      "Datsun-200L      43980     11.913043     3_TB\n",
      "Taunus-2000      35010     11.020408      2_B\n",
      "Rancho           39450     14.112500     3_TB\n",
      "Mazda-9295       27900     13.192771      1_M\n",
      "Opel-Rekord      32700     11.200000      2_B\n",
      "Lada-1300        22100     14.044118      1_M\n"
     ]
    }
   ],
   "source": [
    "#importation des variables supplémentaires\n",
    "varSupp = pandas.read_excel(\"auto.xlsx\",sheet_name=2,header=0,index_col=0)\n",
    "print(varSupp)"
   ]
  },
  {
   "cell_type": "markdown",
   "metadata": {},
   "source": [
    "### 4.2.1 Variables illustratives quantitatives"
   ]
  },
  {
   "cell_type": "markdown",
   "metadata": {},
   "source": [
    "Nous récupérons les variables quantitatives dans une structure à part."
   ]
  },
  {
   "cell_type": "code",
   "execution_count": 38,
   "metadata": {},
   "outputs": [
    {
     "name": "stdout",
     "output_type": "stream",
     "text": [
      "[[3.05700000e+04 1.10126582e+01]\n",
      " [3.99900000e+04 1.30588235e+01]\n",
      " [2.96000000e+04 1.54411765e+01]\n",
      " [2.82500000e+04 1.57627119e+01]\n",
      " [3.49000000e+04 1.12755102e+01]\n",
      " [3.54800000e+04 1.31707317e+01]\n",
      " [3.23000000e+04 1.46835443e+01]\n",
      " [3.20000000e+04 1.83636364e+01]\n",
      " [4.77000000e+04 1.03125000e+01]\n",
      " [2.65400000e+04 1.48181818e+01]\n",
      " [4.23950000e+04 9.72477064e+00]\n",
      " [3.39900000e+04 1.41463415e+01]\n",
      " [4.39800000e+04 1.19130435e+01]\n",
      " [3.50100000e+04 1.10204082e+01]\n",
      " [3.94500000e+04 1.41125000e+01]\n",
      " [2.79000000e+04 1.31927711e+01]\n",
      " [3.27000000e+04 1.12000000e+01]\n",
      " [2.21000000e+04 1.40441176e+01]]\n"
     ]
    }
   ],
   "source": [
    "#variables supplémentaires quanti\n",
    "vsQuanti = varSupp.iloc[:,:2].values\n",
    "print(vsQuanti)"
   ]
  },
  {
   "cell_type": "markdown",
   "metadata": {},
   "source": [
    "Nous calculons les corrélations de ces variables avec les axes factoriels exprimés par les\n",
    "coordonnées des observations."
   ]
  },
  {
   "cell_type": "code",
   "execution_count": 39,
   "metadata": {},
   "outputs": [
    {
     "name": "stdout",
     "output_type": "stream",
     "text": [
      "[[ 0.77247524  0.08670844 -0.13389277 -0.22582891 -0.15944978 -0.10254878]\n",
      " [-0.58903888 -0.67254512 -0.15017616  0.21365718  0.10162791  0.28999742]]\n"
     ]
    }
   ],
   "source": [
    "#corrélation avec les axes factoriels\n",
    "corSupp = numpy.zeros((vsQuanti.shape[1],p))\n",
    "\n",
    "for k in range(p):\n",
    "    for j in range(vsQuanti.shape[1]):\n",
    "        corSupp[j,k] = numpy.corrcoef(vsQuanti[:,j],coord[:,k])[0,1]\n",
    "        \n",
    "#affichage des corrélations avec les axes\n",
    "print(corSupp)"
   ]
  },
  {
   "cell_type": "markdown",
   "metadata": {},
   "source": [
    "Nous avons une matrice (2 x p), 2 parce que 2 variables illustratives, p est le nombre total de\n",
    "composantes générées."
   ]
  },
  {
   "cell_type": "markdown",
   "metadata": {},
   "source": [
    "Avec ces nouvelles coordonnées, nous pouvons placer les variables dans le cercle des\n",
    "corrélations [TUTO_R, page 11]."
   ]
  },
  {
   "cell_type": "code",
   "execution_count": 40,
   "metadata": {},
   "outputs": [
    {
     "data": {
      "image/png": "[encoded data removed]",
      "text/plain": [
       "<Figure size 576x576 with 1 Axes>"
      ]
     },
     "metadata": {
      "needs_background": "light"
     },
     "output_type": "display_data"
    }
   ],
   "source": [
    "#cercle des corrélations avec les var. supp\n",
    "fig, axes = plt.subplots(figsize=(8,8))\n",
    "axes.set_xlim(-1,1)\n",
    "axes.set_ylim(-1,1)\n",
    "\n",
    "for j in range(p):\n",
    "    plt.annotate(X.columns[j],(corvar[j,0],corvar[j,1]))\n",
    "    \n",
    "for j in range(vsQuanti.shape[1]):\n",
    "    plt.annotate(varSupp.columns[j],(corSupp[j,0],corSupp[j,1]),color='g')\n",
    "#ajouter les axes\n",
    "plt.plot([-1,1],[0,0],color='silver',linestyle='-',linewidth=1)\n",
    "plt.plot([0,0],[-1,1],color='silver',linestyle='-',linewidth=1)\n",
    "\n",
    "#ajouter un cercle\n",
    "cercle = plt.Circle((0,0),1,color='blue',fill=False)\n",
    "axes.add_artist(cercle)\n",
    "\n",
    "#affichage\n",
    "plt.show()"
   ]
  },
  {
   "cell_type": "markdown",
   "metadata": {},
   "source": [
    "On note dans ce cercle (Figure 9) :\n",
    "• La variable PRIX est globalement corrélée avec l’ensemble des variables, emportée par la\n",
    "première composante principale.\n",
    "• R_POIDS_PUIS (rapport poids-puissance) est quasi-orthogonale au premier facteur. A\n",
    "bien y regarder, on remarque surtout qu’elle est à l’opposé de V_MAX."
   ]
  },
  {
   "cell_type": "code",
   "execution_count": 41,
   "metadata": {},
   "outputs": [
    {
     "name": "stdout",
     "output_type": "stream",
     "text": [
      "Modele\n",
      "Alfasud TI          2_B\n",
      "Audi 100           3_TB\n",
      "Simca 1300          1_M\n",
      "Citroen GS Club     1_M\n",
      "Fiat 132            2_B\n",
      "Lancia Beta        3_TB\n",
      "Peugeot 504         2_B\n",
      "Renault 16 TL       2_B\n",
      "Renault 30         3_TB\n",
      "Toyota Corolla      1_M\n",
      "Alfetta-1.66       3_TB\n",
      "Princess-1800       2_B\n",
      "Datsun-200L        3_TB\n",
      "Taunus-2000         2_B\n",
      "Rancho             3_TB\n",
      "Mazda-9295          1_M\n",
      "Opel-Rekord         2_B\n",
      "Lada-1300           1_M\n",
      "Name: FINITION, dtype: object\n"
     ]
    }
   ],
   "source": [
    "#traitement de var. quali supplementaire\n",
    "vsQuali = varSupp.iloc[:,2]\n",
    "print(vsQuali)"
   ]
  },
  {
   "cell_type": "markdown",
   "metadata": {},
   "source": [
    "Puis nous récupérons la liste des modalités."
   ]
  },
  {
   "cell_type": "code",
   "execution_count": 42,
   "metadata": {},
   "outputs": [
    {
     "name": "stdout",
     "output_type": "stream",
     "text": [
      "['1_M' '2_B' '3_TB']\n"
     ]
    }
   ],
   "source": [
    "#modalités de la variable qualitative\n",
    "modalites = numpy.unique(vsQuali)\n",
    "print(modalites)"
   ]
  },
  {
   "cell_type": "markdown",
   "metadata": {},
   "source": [
    "Nous représentons les individus dans le plan factoriel, coloriées selon la modalité associée de\n",
    "la variable illustrative. Il y a une petite gymnastique à faire pour obtenir le bon résultat.\n",
    "J’imagine qu’il est possible de faire plus simple."
   ]
  },
  {
   "cell_type": "code",
   "execution_count": 43,
   "metadata": {},
   "outputs": [
    {
     "data": {
      "image/png": "[encoded data removed]",
      "text/plain": [
       "<Figure size 864x864 with 1 Axes>"
      ]
     },
     "metadata": {
      "needs_background": "light"
     },
     "output_type": "display_data"
    }
   ],
   "source": [
    "#liste des couleurs\n",
    "couleurs = ['r','g','b']\n",
    "\n",
    "#faire un graphique en coloriant les points\n",
    "fig, axes = plt.subplots(figsize=(12,12))\n",
    "axes.set_xlim(-6,6)\n",
    "axes.set_ylim(-6,6)\n",
    "\n",
    "#pour chaque modalité de la var. illustrative\n",
    "for c in range(len(modalites)):\n",
    "    #numéro des individus concernés\n",
    "    numero = numpy.where(vsQuali == modalites[c])\n",
    "    \n",
    "    #les passer en revue pour affichage\n",
    "    for i in numero[0]:\n",
    "        plt.annotate(X.index[i],(coord[i,0],coord[i,1]),color=couleurs[c])\n",
    "    #ajouter les axes\n",
    "plt.plot([-6,6],[0,0],color='silver',linestyle='-',linewidth=1)\n",
    "plt.plot([0,0],[-6,6],color='silver',linestyle='-',linewidth=1)\n",
    "\n",
    "#affichage\n",
    "plt.show()"
   ]
  },
  {
   "cell_type": "markdown",
   "metadata": {},
   "source": [
    "Les couleurs sont définies par la variable couleurs qui est une liste avec les abréviations de\n",
    "{‘r’ : rouge, ‘v’ : vert, ‘b’ : bleu} pour {1_M, 2_B, 3_TB}."
   ]
  },
  {
   "cell_type": "markdown",
   "metadata": {},
   "source": [
    "Puis nous calculons les positions des barycentres conditionnels dans le plan factoriel."
   ]
  },
  {
   "cell_type": "code",
   "execution_count": 44,
   "metadata": {},
   "outputs": [],
   "source": [
    "#structure intermédiaire\n",
    "df = pandas.DataFrame({'Finition':vsQuali,'F1':coord[:,0],'F2':coord[:,1]})"
   ]
  },
  {
   "cell_type": "code",
   "execution_count": 45,
   "metadata": {},
   "outputs": [
    {
     "name": "stdout",
     "output_type": "stream",
     "text": [
      "                F1        F2\n",
      "Finition                    \n",
      "1_M      -2.000355 -0.022579\n",
      "2_B       0.235313  0.045271\n",
      "3_TB      1.392430 -0.034001\n"
     ]
    }
   ],
   "source": [
    "#puis calculer les moyennes conditionnelles\n",
    "print(df.pivot_table(index='Finition',values=['F1','F2'],aggfunc=pandas.Series.mean))"
   ]
  },
  {
   "cell_type": "markdown",
   "metadata": {},
   "source": [
    "Remarque : Les placer dans le repère factoriel ainsi que calculer les valeurs-test devraient\n",
    "être relativement simples [TUTO_R, pages 12 et 13]."
   ]
  },
  {
   "cell_type": "markdown",
   "metadata": {},
   "source": [
    "# 5 Conclusion"
   ]
  },
  {
   "cell_type": "markdown",
   "metadata": {},
   "source": [
    "Qu’importe le flacon (Tanagra, Excel, R, Python, etc.) pourvu que l’on ait l’ivresse (ACP). Ça\n",
    "m’a beaucoup amusé de revenir sur un de mes vieux tutoriels pour R pour explorer les\n",
    "équivalences avec Python. Comme avec princomp(), il m’a fallu un peu de temps pour\n",
    "explorer les possibilités offertes par PCA de ‘’scikit-learn’’. J’imagine que, à l’instar de R, nous\n",
    "verrons de plus en plus fleurir de packages pour Python destinés à nous faciliter grandement\n",
    "la vie pour mener efficacement une analyse en composantes principales avec un minimum de\n",
    "commandes. Avis aux férus de programmation…"
   ]
  },
  {
   "cell_type": "markdown",
   "metadata": {},
   "source": [
    "# 6 Références"
   ]
  },
  {
   "cell_type": "markdown",
   "metadata": {},
   "source": [
    "(ACP) Rakotomalala R., ‘’Analyse en composantes principales – Diapos’’, juillet 2013 ;\n",
    "http://tutoriels-data-mining.blogspot.com/2013/07/analyse-en-composantes-principales.html\n",
    "(TUTO_R) Tutoriel Tanagra, ‘’Analyse en composantes principales avec R », Mai 2009 ;\n",
    "http://tutoriels-data-mining.blogspot.com/2009/05/analyse-en-composantes-principales-avec.html\n",
    "(SAPORTA) Saporta G., ‘’Probabilités, analyse des données et statistique », Dunod, 2006.\n",
    "(SKLEARN) ‘’scikit-learn – Machine Learning in Python’’, http://scikit-learn.org/stable/index.html"
   ]
  }
 ],
 "metadata": {
  "kernelspec": {
   "display_name": "Python 3",
   "language": "python",
   "name": "python3"
  },
  "language_info": {
   "codemirror_mode": {
    "name": "ipython",
    "version": 3
   },
   "file_extension": ".py",
   "mimetype": "text/x-python",
   "name": "python",
   "nbconvert_exporter": "python",
   "pygments_lexer": "ipython3",
   "version": "3.9.4"
  },
  "metadata": {
   "interpreter": {
    "hash": "5b9c502b618e97131917a2f1409b4700bb639cdf99ce16cd88a0e27a90524386"
   }
  }
 },
 "nbformat": 4,
 "nbformat_minor": 4
}
